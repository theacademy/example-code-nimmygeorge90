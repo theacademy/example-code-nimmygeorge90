{
 "cells": [
  {
   "cell_type": "code",
   "execution_count": 1,
   "metadata": {},
   "outputs": [
    {
     "name": "stdout",
     "output_type": "stream",
     "text": [
      "Training Proper Size: 5468\n",
      "Calibration Set Size: 1823\n",
      "Test Set Size: 2007\n"
     ]
    }
   ],
   "source": [
    "#Import libraries \n",
    "import numpy as np\n",
    "import math \n",
    "from sklearn.svm import SVC\n",
    "import matplotlib.pyplot as plt \n",
    "import time\n",
    "from sklearn.model_selection import train_test_split\n",
    "%matplotlib inline\n",
    "\n",
    "\n",
    "\n",
    "#Split data into training set proper, calibration set and test set\n",
    "data_train_p, data_cal, target_train_p, target_cal = train_test_split(data_train, target_train, random_state=0)\n",
    "\n",
    "print(\"Training Proper Size:\", len(data_train_p))\n",
    "print(\"Calibration Set Size:\",len(data_cal))\n",
    "print(\"Test Set Size:\",len(data_test))"
   ]
  },
  {
   "cell_type": "code",
   "execution_count": null,
   "metadata": {},
   "outputs": [],
   "source": [
    "#Load USPS Dataset\n",
    "import h5py\n",
    "path=\"usps.h5\"\n",
    "with h5py.File(path, 'r') as usps_data:\n",
    "    train = usps_data.get('train')\n",
    "    x_train = train.get('data')[:]\n",
    "    y_train = train.get('target')[:]\n",
    "    test = usps_data.get('test')\n",
    "    x_test = test.get('data')[:]\n",
    "    y_test = test.get('target')[:]"
   ]
  },
  {
   "cell_type": "code",
   "execution_count": null,
   "metadata": {},
   "outputs": [],
   "source": [
    "x_train"
   ]
  },
  {
   "cell_type": "code",
   "execution_count": null,
   "metadata": {},
   "outputs": [],
   "source": [
    "y_train"
   ]
  },
  {
   "cell_type": "code",
   "execution_count": null,
   "metadata": {},
   "outputs": [],
   "source": [
    "x_test"
   ]
  },
  {
   "cell_type": "code",
   "execution_count": null,
   "metadata": {},
   "outputs": [],
   "source": [
    "y_test"
   ]
  },
  {
   "cell_type": "code",
   "execution_count": null,
   "metadata": {},
   "outputs": [],
   "source": [
    "#Concatenate training and test set\n",
    "usps_x=np.row_stack((x_train,x_test))\n",
    "usps_y=np.append(y_train,y_test)\n",
    "print('usps_x: ' + str(usps_x.shape)) #Total size of the dataset when we concatenate both training and test set\n",
    "print('usps_y: ' + str(usps_y.shape))"
   ]
  },
  {
   "cell_type": "code",
   "execution_count": null,
   "metadata": {},
   "outputs": [],
   "source": [
    "#Initially complete dataset split into 2,the training set size=80% and the rest are test set\n",
    "x_train, x_test, y_train, y_test = train_test_split(usps_x, usps_y, random_state=0,train_size=0.80)\n",
    "print('X_train: ' + str(x_train.shape))\n",
    "print('Y_train: ' + str(y_train.shape))\n",
    "print('X_test:  '  + str(x_test.shape))\n",
    "print('Y_test:  '  + str(y_test.shape))\n",
    "print(\"Training  Size:\", len(x_train))\n",
    "print(\"Test dataset Size:\",len(x_test))"
   ]
  },
  {
   "cell_type": "code",
   "execution_count": 2,
   "metadata": {},
   "outputs": [],
   "source": [
    "def set_variables(x_train,y_train,x_test,y_test,kernel):\n",
    "    model=SVC(kernel=kernel)\n",
    "    score=np.zeros(len(x_train)+1)\n",
    "    p_values=np.zeros((len(x_test),len(set(y_train))))\n",
    "    pred=np.zeros(len(x_test))\n",
    "    conf=np.zeros(len(x_test))\n",
    "    cred=np.zeros(len(x_test))\n",
    "    sum_p=0\n",
    "    return SVM, score, p_values, pred, conf, cred, sum_p"
   ]
  },
  {
   "cell_type": "code",
   "execution_count": 3,
   "metadata": {},
   "outputs": [],
   "source": [
    "def calculate_score(extend_train_x,extend_train_y,model):\n",
    "    model.fit(extend_train_x,extend_train_y)\n",
    "    dec=model.decision_function(extend_train_x)\n",
    "    row=np.arange(0,len(dec))\n",
    "    result_score=-1*d_func[row,extend_train_y]\n",
    "    return result_score,model"
   ]
  },
  {
   "cell_type": "code",
   "execution_count": 4,
   "metadata": {},
   "outputs": [],
   "source": [
    "def svm_tcp(x_train,y_train,x_test,y_test,kernel):\n",
    "    #Set variables\n",
    "    model, score, p_values, pred, conf, cred, sum_p = \\\n",
    "    set_variables(x_train,y_train,x_test,y_test,kernel)\n",
    "    #Loop through test samples\n",
    "    for i in range(len(x_test)):\n",
    "        #Create new dataset which is the training set + the test sample\n",
    "        extend_train_x=np.row_stack((x_train,x_test[i]))\n",
    "        for j in set(y_train): #Test all possible labels\n",
    "            #Extend labels with test sample\n",
    "            extend_train_y=np.append(y_train,j)\n",
    "            #Calculate conformity scores for each sample in the extended set\n",
    "            result_score,model=\\\n",
    "                calculate_score(extend_train_x,extend_train_y,model)\n",
    "            #Calculate p-values of test sample\n",
    "            p_values[i][j]=np.mean(result_score>=result_score[-1])\n",
    "        #Use p-values of test sample to calculate various measures\n",
    "        pred[i]=int(np.argmax(p_values[i]))\n",
    "        conf[i]=1- p_values[i][np.argsort(p_values[i])[-2]]\n",
    "        cred[i]=np.max(p_values[i])\n",
    "        sum_p = sum_p + np.sum(p_values[i]) - p_values[i][y_test[i]]\n",
    "    false_p_value=sum_p/(2*len(x_test))\n",
    "    return pred, conf, cred, false_p_value"
   ]
  },
  {
   "cell_type": "code",
   "execution_count": 5,
   "metadata": {},
   "outputs": [
    {
     "name": "stdout",
     "output_type": "stream",
     "text": [
      "--- 168.38916659355164 seconds ---\n"
     ]
    }
   ],
   "source": [
    "start_time = time.time()\n",
    "pred, conf, cred, false_p_value = \\\n",
    "svm_conformal_predictor(data_train,target_train,data_test[0:10],target_test[0:10],\"linear\" )\n",
    "print(\"Total run time is %s seconds ---\" % (time.time() - start_time))"
   ]
  },
  {
   "cell_type": "code",
   "execution_count": 7,
   "metadata": {},
   "outputs": [
    {
     "name": "stdout",
     "output_type": "stream",
     "text": [
      "Linear SVM Accuracy:  0.7\n",
      "Linear SVM Avg False p-value:  0.17447202413603946\n",
      "Linear Avg Confidence:  0.8196379594075699\n",
      "Linear Avg Credibility:  0.6471475589687328\n"
     ]
    }
   ],
   "source": [
    "print(\"Linear SVM Accuracy: \", np.mean(pred==target_test[0:10]))\n",
    "print(\"Linear SVM Avg False p-value: \", false_p_value)\n",
    "print(\"Linear Avg Confidence: \",np.mean(conf))\n",
    "print(\"Linear Avg Credibility: \",np.mean(cred))"
   ]
  },
  {
   "cell_type": "code",
   "execution_count": null,
   "metadata": {},
   "outputs": [],
   "source": []
  }
 ],
 "metadata": {
  "kernelspec": {
   "display_name": "Python 3",
   "language": "python",
   "name": "python3"
  },
  "language_info": {
   "codemirror_mode": {
    "name": "ipython",
    "version": 3
   },
   "file_extension": ".py",
   "mimetype": "text/x-python",
   "name": "python",
   "nbconvert_exporter": "python",
   "pygments_lexer": "ipython3",
   "version": "3.8.5"
  }
 },
 "nbformat": 4,
 "nbformat_minor": 5
}
