{
 "cells": [
  {
   "cell_type": "code",
   "execution_count": 1,
   "metadata": {},
   "outputs": [],
   "source": [
    "import numpy as np  # To load numpy\n",
    "import pandas as pd # To load pandas\n",
    "import math # To calcuate mathematical problems\n",
    "import time #To calculate the time that take implement the algorithm\n",
    "from sklearn.model_selection import train_test_split  # for split arrays or matrices into random train and test subsets   \n",
    "from sklearn import metrics   # importing metrics from sklearn to findout the performance measures.\n",
    "from sklearn.svm import SVC# here we are importing svm from sklearn\n",
    "from sklearn import svm # here we are importing svm from sklearn\n",
    "import matplotlib.pyplot as plt  #To plot the graphs "
   ]
  },
  {
   "cell_type": "code",
   "execution_count": 2,
   "metadata": {},
   "outputs": [],
   "source": [
    "#Load USPS Dataset from HDF5 file\n",
    "import h5py\n",
    "usps=\"usps.h5\"\n",
    "with h5py.File(usps, 'r') as hf: #the dataset fetch in reading format\n",
    "        train = hf.get('train')\n",
    "        x_train = train.get('data')[:]\n",
    "        y_train = train.get('target')[:]\n",
    "        test = hf.get('test')\n",
    "        x_test = test.get('data')[:]\n",
    "        y_test = test.get('target')[:]"
   ]
  },
  {
   "cell_type": "code",
   "execution_count": 3,
   "metadata": {},
   "outputs": [
    {
     "data": {
      "text/plain": [
       "array([[0.    , 0.    , 0.    , ..., 0.    , 0.    , 0.    ],\n",
       "       [0.    , 0.    , 0.    , ..., 0.1645, 0.086 , 0.    ],\n",
       "       [0.    , 0.    , 0.    , ..., 0.    , 0.    , 0.    ],\n",
       "       ...,\n",
       "       [0.    , 0.    , 0.    , ..., 0.    , 0.    , 0.    ],\n",
       "       [0.    , 0.    , 0.    , ..., 0.    , 0.    , 0.    ],\n",
       "       [0.    , 0.    , 0.    , ..., 0.    , 0.    , 0.    ]],\n",
       "      dtype=float32)"
      ]
     },
     "execution_count": 3,
     "metadata": {},
     "output_type": "execute_result"
    }
   ],
   "source": [
    "x_train"
   ]
  },
  {
   "cell_type": "code",
   "execution_count": 4,
   "metadata": {},
   "outputs": [
    {
     "data": {
      "text/plain": [
       "array([6, 5, 4, ..., 3, 0, 1])"
      ]
     },
     "execution_count": 4,
     "metadata": {},
     "output_type": "execute_result"
    }
   ],
   "source": [
    "y_train"
   ]
  },
  {
   "cell_type": "code",
   "execution_count": 5,
   "metadata": {},
   "outputs": [
    {
     "data": {
      "text/plain": [
       "array([[0., 0., 0., ..., 0., 0., 0.],\n",
       "       [0., 0., 0., ..., 0., 0., 0.],\n",
       "       [0., 0., 0., ..., 0., 0., 0.],\n",
       "       ...,\n",
       "       [0., 0., 0., ..., 0., 0., 0.],\n",
       "       [0., 0., 0., ..., 0., 0., 0.],\n",
       "       [0., 0., 0., ..., 0., 0., 0.]], dtype=float32)"
      ]
     },
     "execution_count": 5,
     "metadata": {},
     "output_type": "execute_result"
    }
   ],
   "source": [
    "x_test"
   ]
  },
  {
   "cell_type": "code",
   "execution_count": 6,
   "metadata": {},
   "outputs": [
    {
     "data": {
      "text/plain": [
       "array([9, 6, 3, ..., 4, 0, 1])"
      ]
     },
     "execution_count": 6,
     "metadata": {},
     "output_type": "execute_result"
    }
   ],
   "source": [
    "y_test"
   ]
  },
  {
   "cell_type": "code",
   "execution_count": 7,
   "metadata": {},
   "outputs": [
    {
     "name": "stdout",
     "output_type": "stream",
     "text": [
      "X_train_proper: (5468, 256)\n",
      "Y_train_proper: (5468,)\n",
      "X_test:  (2007, 256)\n",
      "Y_test:  (2007,)\n",
      "X_cal:  (1823, 256)\n",
      "Y_cal:  (1823,)\n",
      "Training Proper Size: 7291\n",
      "Calibration Set Size: 1823\n",
      "Test Set Size: 2007\n"
     ]
    }
   ],
   "source": [
    "#Splitting the dataset into training set, test set and calibration set\n",
    "x_train_proper, x_cal, y_train_proper, y_cal = train_test_split(x_train, y_train, random_state=0)\n",
    "\n",
    "print('X_train_proper: ' + str(x_train_proper.shape))#size of training set, test set and calibration set\n",
    "print('Y_train_proper: ' + str(y_train_proper.shape))\n",
    "print('X_test:  '  + str(x_test.shape))\n",
    "print('Y_test:  '  + str(y_test.shape))\n",
    "print('X_cal:  '  + str(x_cal.shape))\n",
    "print('Y_cal:  '  + str(y_cal.shape))\n",
    "print(\"Training Proper Size:\", len(x_train))\n",
    "print(\"Calibration Set Size:\",len(x_cal))\n",
    "print(\"Test Set Size:\",len(x_test))"
   ]
  },
  {
   "cell_type": "markdown",
   "metadata": {},
   "source": [
    "#### SVM Inductive when kernel = \"linear\""
   ]
  },
  {
   "cell_type": "code",
   "execution_count": 29,
   "metadata": {},
   "outputs": [
    {
     "name": "stdout",
     "output_type": "stream",
     "text": [
      "Total run time is: 0.0 seconds \n",
      "Accuracy of SVM : 0.9207772795216741\n"
     ]
    }
   ],
   "source": [
    "#Implement SVM when kernel = linear\n",
    "from sklearn import metrics\n",
    "start_time = time.time() # Calculate the total run time \n",
    "print(\"Total run time is: %s seconds \" % (time.time() - start_time))\n",
    "svc = svm.SVC(kernel='linear')\n",
    "svc.fit(x_train_proper, y_train_proper)\n",
    "y_pred = svc.predict(x_test)\n",
    "print(\"Accuracy of SVM :\",metrics.accuracy_score(y_test,y_pred))#Accuracy"
   ]
  },
  {
   "cell_type": "code",
   "execution_count": 30,
   "metadata": {},
   "outputs": [],
   "source": [
    "def set_variables(x_train_proper,y_train_proper,x_cal,y_cal,x_test,y_test):\n",
    "    #Initialize variables for storage\n",
    "    total_p_values=0 #Initialize the variable for total sum of p-values\n",
    "    p_values=np.zeros((len(x_test),len(set(y_train_proper))))#Initialize the variable for p-values\n",
    "    prediction=np.zeros(len(x_test))#Initialize the variable for prediction\n",
    "    confidence=np.zeros(len(x_test))#Initialize the variable for Confidence\n",
    "    credibility=np.zeros(len(x_test))#Initialize the variable for credibility\n",
    "    false_p_value=np.zeros(len(x_test)) #Initialize the variable for false_p_value\n",
    "    return total_p_values, p_values,prediction, confidence, credibility, false_p_value"
   ]
  },
  {
   "cell_type": "markdown",
   "metadata": {},
   "source": [
    "Implementing Inductive conformal prediction algorithm in SVM with kernel =linear and regular p-value"
   ]
  },
  {
   "cell_type": "code",
   "execution_count": 31,
   "metadata": {},
   "outputs": [],
   "source": [
    "#Implementing Inductive conformal prediction algorithm when kernel =linear with regular p-value\n",
    "def svm_icp_linear(x_train_proper,y_train_proper,x_cal,y_cal,x_test,y_test):#A defining a function svm_icp_linear and with arguments\n",
    "    #calling the function set_variables\n",
    "    total_p_values, p_values, prediction, confidence, credibility, false_p_value = \\\n",
    "    set_variables(x_train_proper,y_train_proper,x_cal,y_cal,x_test,y_test) \n",
    "    cal_fun=svc.decision_function(x_cal)#Calculate non-conformity scores for the calibration set\n",
    "    row=np.arange(0,len(cal_fun))\n",
    "    ncs_cal=-1*cal_fun[row,y_cal]\n",
    "    test_fun=svc.decision_function(x_test)#Calculate non-conformity scores for the test set\n",
    "    #Loop through test samples\n",
    "    for i in range(len(x_test)):\n",
    "        for j in set(y_train_proper): #Test all possible labels\n",
    "            ncs_test=np.append(ncs_cal,(-1*test_fun[i][j]))\n",
    "            #Calculate p-values of test sample\n",
    "            p_values[i][j]=np.mean(ncs_test>=ncs_test[-1])\n",
    "         #Use p-values of test sample to calculate various measures   \n",
    "        prediction[i]=int(np.argmax(p_values[i]))#Measure prediction\n",
    "        confidence[i]=1- p_values[i][np.argsort(p_values[i])[-2]]#Measure Confidence\n",
    "        credibility[i]=np.max(p_values[i])#Measure credibility\n",
    "        total_p_values = total_p_values + np.sum(p_values[i]) - p_values[i][y_test[i]]#Measure total sum of p-values\n",
    "    false_p_value=total_p_values/(2*len(x_test))#Measure false_p_value\n",
    "    return prediction, confidence, credibility, p_values, false_p_value\n"
   ]
  },
  {
   "cell_type": "markdown",
   "metadata": {},
   "source": [
    "SVM Point Prediction algorithm with kernel='linear' and smooth = False"
   ]
  },
  {
   "cell_type": "code",
   "execution_count": 32,
   "metadata": {},
   "outputs": [
    {
     "name": "stdout",
     "output_type": "stream",
     "text": [
      "Total run time is: 2.5186126232147217 seconds \n",
      " Accuracy of icp with linear kernel and regular p-value:  0.9217737917289487\n",
      "Average False p-value:  0.03784301545468041\n",
      "Average Credibility:  0.5221499969405328\n",
      "Average Confidence:  0.9693733664629935\n"
     ]
    }
   ],
   "source": [
    "start_time = time.time() # Calculate the total run time \n",
    "icp=svm_icp_linear(x_train_proper,y_train_proper,x_cal,y_cal,x_test,y_test) # Calling the function icp where kernel =rbf and smooth =True\n",
    "print(\"Total run time is: %s seconds \" % (time.time() - start_time))#Result of the total run time\n",
    "print(\" Accuracy of icp with linear kernel and regular p-value: \", np.mean(icp[0]==y_test))#Result of the Accuracy\n",
    "print(\"Average False p-value: \", icp[4])#Result the Average False p-value\n",
    "print(\"Average Credibility: \",np.mean(icp[2]))#Result of the Average Credibility\n",
    "print(\"Average Confidence: \",np.mean(icp[1]))#Result of the Average Confidence\n"
   ]
  },
  {
   "cell_type": "markdown",
   "metadata": {},
   "source": [
    "#Plotting the validity curve with different significance level were kernel='linear' and smooth = False"
   ]
  },
  {
   "cell_type": "code",
   "execution_count": 33,
   "metadata": {},
   "outputs": [
    {
     "data": {
      "text/plain": [
       "Text(0.5, 1.0, 'Inductive SVM Validity Curve with smoothed p-value=false and kernel=linear')"
      ]
     },
     "execution_count": 33,
     "metadata": {},
     "output_type": "execute_result"
    },
    {
     "data": {
      "image/png": "[encoded data removed]",
      "text/plain": [
       "<Figure size 432x288 with 1 Axes>"
      ]
     },
     "metadata": {
      "needs_background": "light"
     },
     "output_type": "display_data"
    }
   ],
   "source": [
    "error_rate_smooth_linear=[]#Initialize errorrate\n",
    "significance_level=[0.00001,0.0001,0.001,0.01,0.1,0.2,0.3,0.4,0.5,0.6,0.7,0.8,0.9,1]#assign  different significance level\n",
    "for point in significance_level : #Loop with different significance level\n",
    "    prediction_set=[0] * len(x_test)#Initialize the variables\n",
    "    error=0\n",
    "    for i in range(len(x_test)):\n",
    "        prediction_set[i]=list(np.where(icp[3][i]>(point))[0])\n",
    "        if y_test[i] not in prediction_set[i]:\n",
    "            error+=1\n",
    "    error_rate_smooth_linear=np.append(error_rate_smooth_linear,error/len(x_test))#calculate error rate\n",
    "plt.plot(significance_level,error_rate_smooth_linear)#plot te graph with error rate and significance level\n",
    "plt.legend([\"Validity Curve- Regular p-value\",\"[0,1]\"])\n",
    "plt.plot([0,1],[0,1],\"--\")\n",
    "plt.xlabel(\"Significance Level (%)\")\n",
    "plt.ylabel(\"Error rate (%)\",)\n",
    "plt.title(\"Inductive SVM Validity Curve with smoothed p-value=false and kernel=linear\")"
   ]
  },
  {
   "cell_type": "markdown",
   "metadata": {},
   "source": [
    "Implementing Inductive conformal prediction algorithm in SVM with kernel =linear and smoothed p-value"
   ]
  },
  {
   "cell_type": "code",
   "execution_count": 34,
   "metadata": {},
   "outputs": [],
   "source": [
    "#Implementing Inductive conformal prediction algorithm when kernel =linear with smoothed p-value\n",
    "def svm_icp_linear_smooth(x_train_proper,y_train_proper,x_cal,y_cal,x_test,y_test):#A defining a function svm_icp_linear and with arguments\n",
    "    #calling the function set_variables\n",
    "    total_p_values, p_values, prediction, confidence, credibility, false_p_value = \\\n",
    "    set_variables(x_train_proper,y_train_proper,x_cal,y_cal,x_test,y_test) \n",
    "    cal_fun=svc.decision_function(x_cal)#Calculate non-conformity scores for the calibration set\n",
    "    row=np.arange(0,len(cal_fun))\n",
    "    ncs_cal=-1*cal_fun[row,y_cal]\n",
    "    test_fun=svc.decision_function(x_test)#Calculate non-conformity scores for the test set\n",
    "    #Loop through test samples\n",
    "    for i in range(len(x_test)):\n",
    "        for j in set(y_train_proper): #Test all possible labels\n",
    "            ncs_test=np.append(ncs_cal,(-1*test_fun[i][j]))\n",
    "            #Calculate p-values of test sample\n",
    "           #smooth == True:\n",
    "            tau=np.random.uniform()\n",
    "            p_values[i][j]=(np.sum(ncs_test>ncs_test[-1])+(tau*(np.sum(ncs_test==ncs_test[-1]))))/len(ncs_test)\n",
    "         #Use p-values of test sample to calculate various measures   \n",
    "        prediction[i]=int(np.argmax(p_values[i]))#Measure prediction\n",
    "        confidence[i]=1- p_values[i][np.argsort(p_values[i])[-2]]#Measure Confidence\n",
    "        credibility[i]=np.max(p_values[i])#Measure credibility\n",
    "        total_p_values = total_p_values + np.sum(p_values[i]) - p_values[i][y_test[i]]#Measure total sum of p-values\n",
    "    false_p_value=total_p_values/(2*len(x_test))#Measure false_p_value\n",
    "    return prediction, confidence, credibility, p_values, false_p_value\n"
   ]
  },
  {
   "cell_type": "code",
   "execution_count": 35,
   "metadata": {},
   "outputs": [
    {
     "name": "stdout",
     "output_type": "stream",
     "text": [
      "Total run time is: 2.9386677742004395 seconds \n",
      " Accuracy of icp with linear kernel and regular p-value:  0.9217737917289487\n",
      "Average False p-value:  0.03660734475474968\n",
      "Average Credibility:  0.5218776614309188\n",
      "Average Confidence:  0.9696473512592422\n"
     ]
    }
   ],
   "source": [
    "start_time = time.time() # Calculate the total run time \n",
    "icp=svm_icp_linear_smooth(x_train_proper,y_train_proper,x_cal,y_cal,x_test,y_test) # Calling the function icp where kernel =rbf and smooth =True\n",
    "print(\"Total run time is: %s seconds \" % (time.time() - start_time))#Result of the total run time\n",
    "print(\" Accuracy of icp with linear kernel and regular p-value: \", np.mean(icp[0]==y_test))#Result of the Accuracy\n",
    "print(\"Average False p-value: \", icp[4])#Result the Average False p-value\n",
    "print(\"Average Credibility: \",np.mean(icp[2]))#Result of the Average Credibility\n",
    "print(\"Average Confidence: \",np.mean(icp[1]))#Result of the Average Confidence\n"
   ]
  },
  {
   "cell_type": "markdown",
   "metadata": {},
   "source": [
    "Validity curve with  kernel='linear' and smooth = True"
   ]
  },
  {
   "cell_type": "code",
   "execution_count": 36,
   "metadata": {},
   "outputs": [
    {
     "data": {
      "text/plain": [
       "Text(0.5, 1.0, 'Inductive SVM Validity Curve with smoothed p-value=True and kernel=linear')"
      ]
     },
     "execution_count": 36,
     "metadata": {},
     "output_type": "execute_result"
    },
    {
     "data": {
      "image/png": "[encoded data removed]",
      "text/plain": [
       "<Figure size 432x288 with 1 Axes>"
      ]
     },
     "metadata": {
      "needs_background": "light"
     },
     "output_type": "display_data"
    }
   ],
   "source": [
    "error_rate_smooth_linear=[]#Initialize errorrate\n",
    "significance_level=[0.00001,0.0001,0.001,0.01,0.1,0.2,0.3,0.4,0.5,0.6,0.7,0.8,0.9,1]#assign  different significance level\n",
    "for point in significance_level : #Loop with different significance level\n",
    "    prediction_set=[0] * len(x_test)#Initialize the variables\n",
    "    error=0\n",
    "    for i in range(len(x_test)):\n",
    "        prediction_set[i]=list(np.where(icp[3][i]>(point))[0])\n",
    "        if y_test[i] not in prediction_set[i]:\n",
    "            error+=1\n",
    "    error_rate_smooth_linear=np.append(error_rate_smooth_linear,error/len(x_test))#calculate error rate\n",
    "plt.plot(significance_level,error_rate_smooth_linear)#plot te graph with error rate and significance level\n",
    "plt.legend([\"Validity Curve- Regular p-value\",\"[0,1]\"])\n",
    "plt.plot([0,1],[0,1],\"--\")\n",
    "plt.xlabel(\"Significance Level (%)\")\n",
    "plt.ylabel(\"Error rate (%)\",)\n",
    "plt.title(\"Inductive SVM Validity Curve with smoothed p-value=True and kernel=linear\")"
   ]
  },
  {
   "cell_type": "markdown",
   "metadata": {},
   "source": [
    "#### Implement SVM when kernel = \"rbf\""
   ]
  },
  {
   "cell_type": "code",
   "execution_count": 54,
   "metadata": {},
   "outputs": [
    {
     "name": "stdout",
     "output_type": "stream",
     "text": [
      "Total run time is: 0.0 seconds \n",
      "Accuracy of SVM : 0.9451918285999004\n"
     ]
    }
   ],
   "source": [
    "#Implement SVM when kernel = rbf\n",
    "from sklearn import metrics\n",
    "start_time = time.time() # Calculate the total run time \n",
    "print(\"Total run time is: %s seconds \" % (time.time() - start_time))\n",
    "svc_rbf = svm.SVC(kernel='rbf')\n",
    "svc_rbf.fit(x_train_proper, y_train_proper)\n",
    "y_pred = svc_rbf.predict(x_test)\n",
    "print(\"Accuracy of SVM :\",metrics.accuracy_score(y_test,y_pred))#Accuracy"
   ]
  },
  {
   "cell_type": "markdown",
   "metadata": {},
   "source": [
    "Implementing Inductive conformal prediction algorithm in SVM with kernel =rbf and regular p-value"
   ]
  },
  {
   "cell_type": "code",
   "execution_count": 55,
   "metadata": {},
   "outputs": [],
   "source": [
    "#Implementing Inductive conformal prediction algorithm when kernel =rbf with regular p-value\n",
    "def svm_icp_rbf(x_train_proper,y_train_proper,x_cal,y_cal,x_test,y_test):#A defining a function svm_icp_linear and with arguments\n",
    "    #calling the function set_variables\n",
    "    total_p_values, p_values, prediction, confidence, credibility, false_p_value = \\\n",
    "    set_variables(x_train_proper,y_train_proper,x_cal,y_cal,x_test,y_test) \n",
    "    cal_fun=svc_rbf.decision_function(x_cal)#Calculate non-conformity scores for the calibration set\n",
    "    row=np.arange(0,len(cal_fun))\n",
    "    ncs_cal=-1*cal_fun[row,y_cal]\n",
    "    test_fun=svc_rbf.decision_function(x_test)#Calculate non-conformity scores for the test set\n",
    "    #Loop through test samples\n",
    "    for i in range(len(x_test)):\n",
    "        for j in set(y_train_proper): #Test all possible labels\n",
    "            ncs_test=np.append(ncs_cal,(-1*test_fun[i][j]))\n",
    "            #Calculate p-values of test sample\n",
    "            p_values[i][j]=np.mean(ncs_test>=ncs_test[-1])\n",
    "         #Use p-values of test sample to calculate various measures   \n",
    "        prediction[i]=int(np.argmax(p_values[i]))#Measure prediction\n",
    "        confidence[i]=1- p_values[i][np.argsort(p_values[i])[-2]]#Measure Confidence\n",
    "        credibility[i]=np.max(p_values[i])#Measure credibility\n",
    "        total_p_values = total_p_values + np.sum(p_values[i]) - p_values[i][y_test[i]]#Measure total sum of p-values\n",
    "    false_p_value=total_p_values/(2*len(x_test))#Measure false_p_value\n",
    "    return prediction, confidence, credibility, p_values, false_p_value"
   ]
  },
  {
   "cell_type": "code",
   "execution_count": 56,
   "metadata": {},
   "outputs": [
    {
     "name": "stdout",
     "output_type": "stream",
     "text": [
      "Total run time is: 3.3787975311279297 seconds \n",
      " Accuracy of icp with rbf kernel and regular p-value:  0.9456900847035377\n",
      "Average False p-value:  0.019194059825697826\n",
      "Average Credibility:  0.47426933364802143\n",
      "Average Confidence:  0.9840219320098952\n"
     ]
    }
   ],
   "source": [
    "start_time = time.time() # Calculate the total run time \n",
    "icp_rbf=svm_icp_rbf(x_train_proper,y_train_proper,x_cal,y_cal,x_test,y_test) # Calling the function icp where kernel =rbf and smooth =True\n",
    "print(\"Total run time is: %s seconds \" % (time.time() - start_time))#Result of the total run time\n",
    "print(\" Accuracy of icp with rbf kernel and regular p-value: \", np.mean(icp_rbf[0]==y_test))#Result of the Accuracy\n",
    "print(\"Average False p-value: \", icp_rbf[4])#Result the Average False p-value\n",
    "print(\"Average Credibility: \",np.mean(icp_rbf[2]))#Result of the Average Credibility\n",
    "print(\"Average Confidence: \",np.mean(icp_rbf[1]))#Result of the Average Confidence"
   ]
  },
  {
   "cell_type": "markdown",
   "metadata": {},
   "source": [
    "Validity curve with kernel='rbf' and smooth = False"
   ]
  },
  {
   "cell_type": "code",
   "execution_count": 57,
   "metadata": {},
   "outputs": [
    {
     "data": {
      "text/plain": [
       "Text(0.5, 1.0, 'Inductive SVM Validity Curve with smoothed p-value=false and kernel=rbf')"
      ]
     },
     "execution_count": 57,
     "metadata": {},
     "output_type": "execute_result"
    },
    {
     "data": {
      "image/png": "[encoded data removed]",
      "text/plain": [
       "<Figure size 432x288 with 1 Axes>"
      ]
     },
     "metadata": {
      "needs_background": "light"
     },
     "output_type": "display_data"
    }
   ],
   "source": [
    "error_rate_smooth_rbf=[]#Initialize errorrate\n",
    "significance_level=[0.00001,0.0001,0.001,0.01,0.1,0.2,0.3,0.4,0.5,0.6,0.7,0.8,0.9,1]#assign  different significance level\n",
    "for point in significance_level : #Loop with different significance level\n",
    "    prediction_set=[0] * len(x_test)#Initialize the variables\n",
    "    error=0\n",
    "    for i in range(len(x_test)):\n",
    "        prediction_set[i]=list(np.where(icp_rbf[3][i]>(point))[0])\n",
    "        if y_test[i] not in prediction_set[i]:\n",
    "            error+=1\n",
    "    error_rate_smooth_rbf=np.append(error_rate_smooth_rbf,error/len(x_test))#calculate error rate\n",
    "plt.plot(significance_level,error_rate_smooth_rbf)#plot te graph with error rate and significance level\n",
    "plt.legend([\"Validity Curve- Regular p-value\",\"[0,1]\"])\n",
    "plt.plot([0,1],[0,1],\"--\")\n",
    "plt.xlabel(\"Significance Level (%)\")\n",
    "plt.ylabel(\"Error rate (%)\",)\n",
    "plt.title(\"Inductive SVM Validity Curve with smoothed p-value=false and kernel=rbf\")"
   ]
  },
  {
   "cell_type": "markdown",
   "metadata": {},
   "source": [
    "Implementing Inductive conformal prediction algorithm in SVM with kernel =rbf and smoothed p-value"
   ]
  },
  {
   "cell_type": "code",
   "execution_count": 58,
   "metadata": {},
   "outputs": [],
   "source": [
    "#Implementing Inductive conformal prediction algorithm when kernel =rbf with smoothed p-value\n",
    "def svm_icp_rbf_smooth(x_train_proper,y_train_proper,x_cal,y_cal,x_test,y_test):#A defining a function svm_icp_linear and with arguments\n",
    "    #calling the function set_variables\n",
    "    total_p_values, p_values, prediction, confidence, credibility, false_p_value = \\\n",
    "    set_variables(x_train_proper,y_train_proper,x_cal,y_cal,x_test,y_test) \n",
    "    cal_fun=svc_rbf.decision_function(x_cal)#Calculate non-conformity scores for the calibration set\n",
    "    row=np.arange(0,len(cal_fun))\n",
    "    ncs_cal=-1*cal_fun[row,y_cal]\n",
    "    test_fun=svc_rbf.decision_function(x_test)#Calculate non-conformity scores for the test set\n",
    "    #Loop through test samples\n",
    "    for i in range(len(x_test)):\n",
    "        for j in set(y_train_proper): #Test all possible labels\n",
    "            ncs_test=np.append(ncs_cal,(-1*test_fun[i][j]))\n",
    "            #Calculate p-values of test sample\n",
    "           #smooth == True:\n",
    "            tau=np.random.uniform()\n",
    "            p_values[i][j]=(np.sum(ncs_test>ncs_test[-1])+(tau*(np.sum(ncs_test==ncs_test[-1]))))/len(ncs_test)\n",
    "         #Use p-values of test sample to calculate various measures   \n",
    "        prediction[i]=int(np.argmax(p_values[i]))#Measure prediction\n",
    "        confidence[i]=1- p_values[i][np.argsort(p_values[i])[-2]]#Measure Confidence\n",
    "        credibility[i]=np.max(p_values[i])#Measure credibility\n",
    "        total_p_values = total_p_values + np.sum(p_values[i]) - p_values[i][y_test[i]]#Measure total sum of p-values\n",
    "    false_p_value=total_p_values/(2*len(x_test))#Measure false_p_value\n",
    "    return prediction, confidence, credibility, p_values, false_p_value\n"
   ]
  },
  {
   "cell_type": "code",
   "execution_count": 59,
   "metadata": {},
   "outputs": [
    {
     "name": "stdout",
     "output_type": "stream",
     "text": [
      "Total run time is: 3.656970977783203 seconds \n",
      " Accuracy of icp with rbf kernel and regular p-value:  0.9461883408071748\n",
      "Average False p-value:  0.01795858057490679\n",
      "Average Credibility:  0.47399032185540096\n",
      "Average Confidence:  0.9842979852560467\n"
     ]
    }
   ],
   "source": [
    "start_time = time.time() # Calculate the total run time \n",
    "icp_rbf_smooth=svm_icp_rbf_smooth(x_train_proper,y_train_proper,x_cal,y_cal,x_test,y_test) # Calling the function icp where kernel =rbf and smooth =True\n",
    "print(\"Total run time is: %s seconds \" % (time.time() - start_time))#Result of the total run time\n",
    "print(\" Accuracy of icp with rbf kernel and regular p-value: \", np.mean(icp_rbf_smooth[0]==y_test))#Result of the Accuracy\n",
    "print(\"Average False p-value: \", icp_rbf_smooth[4])#Result the Average False p-value\n",
    "print(\"Average Credibility: \",np.mean(icp_rbf_smooth[2]))#Result of the Average Credibility\n",
    "print(\"Average Confidence: \",np.mean(icp_rbf_smooth[1]))#Result of the Average Confidence"
   ]
  },
  {
   "cell_type": "markdown",
   "metadata": {},
   "source": [
    "Validity curve with kernel='rbf' and smooth = True"
   ]
  },
  {
   "cell_type": "code",
   "execution_count": 60,
   "metadata": {},
   "outputs": [
    {
     "data": {
      "text/plain": [
       "Text(0.5, 1.0, 'Inductive SVM Validity Curve with smoothed p-value=True and kernel=rbf')"
      ]
     },
     "execution_count": 60,
     "metadata": {},
     "output_type": "execute_result"
    },
    {
     "data": {
      "image/png": "[encoded data removed]",
      "text/plain": [
       "<Figure size 432x288 with 1 Axes>"
      ]
     },
     "metadata": {
      "needs_background": "light"
     },
     "output_type": "display_data"
    }
   ],
   "source": [
    "error_rate_smooth_rbf=[]#Initialize errorrate\n",
    "significance_level=[0.00001,0.0001,0.001,0.01,0.1,0.2,0.3,0.4,0.5,0.6,0.7,0.8,0.9,1]#assign  different significance level\n",
    "for point in significance_level : #Loop with different significance level\n",
    "    prediction_set=[0] * len(x_test)#Initialize the variables\n",
    "    error=0\n",
    "    for i in range(len(x_test)):\n",
    "        prediction_set[i]=list(np.where(icp_rbf_smooth[3][i]>(point))[0])\n",
    "        if y_test[i] not in prediction_set[i]:\n",
    "            error+=1\n",
    "    error_rate_smooth_rbf=np.append(error_rate_smooth_rbf,error/len(x_test))#calculate error rate\n",
    "plt.plot(significance_level,error_rate_smooth_rbf)#plot te graph with error rate and significance level\n",
    "plt.legend([\"Validity Curve- Regular p-value\",\"[0,1]\"])\n",
    "plt.plot([0,1],[0,1],\"--\")\n",
    "plt.xlabel(\"Significance Level (%)\")\n",
    "plt.ylabel(\"Error rate (%)\",)\n",
    "plt.title(\"Inductive SVM Validity Curve with smoothed p-value=True and kernel=rbf\")"
   ]
  },
  {
   "cell_type": "markdown",
   "metadata": {},
   "source": [
    "#### Implement SVM when kernel = \"poly\""
   ]
  },
  {
   "cell_type": "code",
   "execution_count": 61,
   "metadata": {},
   "outputs": [
    {
     "name": "stdout",
     "output_type": "stream",
     "text": [
      "Accuracy of SVM when kernel is poly: 0.9347284504235177\n"
     ]
    }
   ],
   "source": [
    "#Implement SVM when kernel = poly\n",
    "from sklearn import metrics\n",
    "svc_poly = svm.SVC(kernel='poly')\n",
    "svc_poly.fit(x_train, y_train)\n",
    "y_pred=svc_poly.predict(x_test)\n",
    "print(\"Accuracy of SVM when kernel is poly:\",metrics.accuracy_score(y_test,y_pred))"
   ]
  },
  {
   "cell_type": "markdown",
   "metadata": {},
   "source": [
    "Implementing Inductive conformal prediction algorithm in SVM with kernel =poly and regular p-value"
   ]
  },
  {
   "cell_type": "code",
   "execution_count": 62,
   "metadata": {},
   "outputs": [],
   "source": [
    "#Implementing Inductive conformal prediction algorithm when kernel =poly with regular p-value\n",
    "def svm_icp_poly(x_train_proper,y_train_proper,x_cal,y_cal,x_test,y_test):#A defining a function svm_icp_linear and with arguments\n",
    "    #calling the function set_variables\n",
    "    total_p_values, p_values, prediction, confidence, credibility, false_p_value = \\\n",
    "    set_variables(x_train_proper,y_train_proper,x_cal,y_cal,x_test,y_test) \n",
    "    cal_fun=svc_poly.decision_function(x_cal)#Calculate non-conformity scores for the calibration set\n",
    "    row=np.arange(0,len(cal_fun))\n",
    "    ncs_cal=-1*cal_fun[row,y_cal]\n",
    "    test_fun=svc_poly.decision_function(x_test)#Calculate non-conformity scores for the test set\n",
    "    #Loop through test samples\n",
    "    for i in range(len(x_test)):\n",
    "        for j in set(y_train_proper): #Test all possible labels\n",
    "            ncs_test=np.append(ncs_cal,(-1*test_fun[i][j]))\n",
    "            #Calculate p-values of test sample\n",
    "            p_values[i][j]=np.mean(ncs_test>=ncs_test[-1])\n",
    "         #Use p-values of test sample to calculate various measures   \n",
    "        prediction[i]=int(np.argmax(p_values[i]))#Measure prediction\n",
    "        confidence[i]=1- p_values[i][np.argsort(p_values[i])[-2]]#Measure Confidence\n",
    "        credibility[i]=np.max(p_values[i])#Measure credibility\n",
    "        total_p_values = total_p_values + np.sum(p_values[i]) - p_values[i][y_test[i]]#Measure total sum of p-values\n",
    "    false_p_value=total_p_values/(2*len(x_test))#Measure false_p_value\n",
    "    return prediction, confidence, credibility, p_values, false_p_value"
   ]
  },
  {
   "cell_type": "code",
   "execution_count": 63,
   "metadata": {},
   "outputs": [
    {
     "name": "stdout",
     "output_type": "stream",
     "text": [
      "Total run time is: 2.9783382415771484 seconds \n",
      " Accuracy of icp with poly kernel and regular p-value:  0.9357249626307922\n",
      "Average False p-value:  0.013920849395536726\n",
      "Average Credibility:  0.5176848136784412\n",
      "Average Confidence:  0.995693799770977\n"
     ]
    }
   ],
   "source": [
    "start_time = time.time() # Calculate the total run time \n",
    "icp_poly=svm_icp_poly(x_train_proper,y_train_proper,x_cal,y_cal,x_test,y_test) # Calling the function icp where kernel =rbf and smooth =True\n",
    "print(\"Total run time is: %s seconds \" % (time.time() - start_time))#Result of the total run time\n",
    "print(\" Accuracy of icp with poly kernel and regular p-value: \", np.mean(icp_poly[0]==y_test))#Result of the Accuracy\n",
    "print(\"Average False p-value: \", icp_poly[4])#Result the Average False p-value\n",
    "print(\"Average Credibility: \",np.mean(icp_poly[2]))#Result of the Average Credibility\n",
    "print(\"Average Confidence: \",np.mean(icp_poly[1]))#Result of the Average Confidence"
   ]
  },
  {
   "cell_type": "markdown",
   "metadata": {},
   "source": [
    "Validity curve with kernel = poly and regular p-value"
   ]
  },
  {
   "cell_type": "code",
   "execution_count": 64,
   "metadata": {},
   "outputs": [
    {
     "data": {
      "text/plain": [
       "Text(0.5, 1.0, 'Inductive SVM Validity Curve with smoothed p-value=false and kernel=poly')"
      ]
     },
     "execution_count": 64,
     "metadata": {},
     "output_type": "execute_result"
    },
    {
     "data": {
      "image/png": "[encoded data removed]",
      "text/plain": [
       "<Figure size 432x288 with 1 Axes>"
      ]
     },
     "metadata": {
      "needs_background": "light"
     },
     "output_type": "display_data"
    }
   ],
   "source": [
    "error_rate_smooth_poly=[]#Initialize errorrate\n",
    "significance_level=[0.00001,0.0001,0.001,0.01,0.1,0.2,0.3,0.4,0.5,0.6,0.7,0.8,0.9,1]#assign  different significance level\n",
    "for point in significance_level : #Loop with different significance level\n",
    "    prediction_set=[0] * len(x_test)#Initialize the variables\n",
    "    error=0\n",
    "    for i in range(len(x_test)):\n",
    "        prediction_set[i]=list(np.where(icp_poly[3][i]>(point))[0])\n",
    "        if y_test[i] not in prediction_set[i]:\n",
    "            error+=1\n",
    "    error_rate_smooth_poly=np.append(error_rate_smooth_poly,error/len(x_test))#calculate error rate\n",
    "plt.plot(significance_level,error_rate_smooth_poly)#plot te graph with error rate and significance level\n",
    "plt.legend([\"Validity Curve- Regular p-value\",\"[0,1]\"])\n",
    "plt.plot([0,1],[0,1],\"--\")\n",
    "plt.xlabel(\"Significance Level (%)\")\n",
    "plt.ylabel(\"Error rate (%)\",)\n",
    "plt.title(\"Inductive SVM Validity Curve with smoothed p-value=false and kernel=poly\")"
   ]
  },
  {
   "cell_type": "code",
   "execution_count": 65,
   "metadata": {},
   "outputs": [],
   "source": [
    "#Implementing Inductive conformal prediction algorithm when kernel =poly with smoothed p-value\n",
    "def svm_icp_poly_smooth(x_train_proper,y_train_proper,x_cal,y_cal,x_test,y_test):#A defining a function svm_icp_linear and with arguments\n",
    "    #calling the function set_variables\n",
    "    total_p_values, p_values, prediction, confidence, credibility, false_p_value = \\\n",
    "    set_variables(x_train_proper,y_train_proper,x_cal,y_cal,x_test,y_test) \n",
    "    cal_fun=svc_poly.decision_function(x_cal)#Calculate non-conformity scores for the calibration set\n",
    "    row=np.arange(0,len(cal_fun))\n",
    "    ncs_cal=-1*cal_fun[row,y_cal]\n",
    "    test_fun=svc_poly.decision_function(x_test)#Calculate non-conformity scores for the test set\n",
    "    #Loop through test samples\n",
    "    for i in range(len(x_test)):\n",
    "        for j in set(y_train_proper): #Test all possible labels\n",
    "            ncs_test=np.append(ncs_cal,(-1*test_fun[i][j]))\n",
    "            #Calculate p-values of test sample\n",
    "           #smooth == True:\n",
    "            tau=np.random.uniform()\n",
    "            p_values[i][j]=(np.sum(ncs_test>ncs_test[-1])+(tau*(np.sum(ncs_test==ncs_test[-1]))))/len(ncs_test)\n",
    "         #Use p-values of test sample to calculate various measures   \n",
    "        prediction[i]=int(np.argmax(p_values[i]))#Measure prediction\n",
    "        confidence[i]=1- p_values[i][np.argsort(p_values[i])[-2]]#Measure Confidence\n",
    "        credibility[i]=np.max(p_values[i])#Measure credibility\n",
    "        total_p_values = total_p_values + np.sum(p_values[i]) - p_values[i][y_test[i]]#Measure total sum of p-values\n",
    "    false_p_value=total_p_values/(2*len(x_test))#Measure false_p_value\n",
    "    return prediction, confidence, credibility, p_values, false_p_value"
   ]
  },
  {
   "cell_type": "code",
   "execution_count": 66,
   "metadata": {},
   "outputs": [
    {
     "name": "stdout",
     "output_type": "stream",
     "text": [
      "Total run time is: 3.3278629779815674 seconds \n",
      " Accuracy of icp with poly kernel and regular p-value:  0.9357249626307922\n",
      "Average False p-value:  0.012678112237193017\n",
      "Average Credibility:  0.5174077144437447\n",
      "Average Confidence:  0.9959671417379169\n"
     ]
    }
   ],
   "source": [
    "start_time = time.time() # Calculate the total run time \n",
    "icp_poly_smooth=svm_icp_poly_smooth(x_train_proper,y_train_proper,x_cal,y_cal,x_test,y_test) # Calling the function svm_icp_poly where kernel =poly and smooth =True\n",
    "print(\"Total run time is: %s seconds \" % (time.time() - start_time))#Result of the total run time\n",
    "print(\" Accuracy of icp with poly kernel and regular p-value: \", np.mean(icp_poly_smooth[0]==y_test))#Result of the Accuracy\n",
    "print(\"Average False p-value: \", icp_poly_smooth[4])#Result the Average False p-value\n",
    "print(\"Average Credibility: \",np.mean(icp_poly_smooth[2]))#Result of the Average Credibility\n",
    "print(\"Average Confidence: \",np.mean(icp_poly_smooth[1]))#Result of the Average Confidence"
   ]
  },
  {
   "cell_type": "code",
   "execution_count": 67,
   "metadata": {},
   "outputs": [
    {
     "data": {
      "text/plain": [
       "Text(0.5, 1.0, 'Inductive SVM Validity Curve with smoothed p-value=True and kernel=poly')"
      ]
     },
     "execution_count": 67,
     "metadata": {},
     "output_type": "execute_result"
    },
    {
     "data": {
      "image/png": "[encoded data removed]",
      "text/plain": [
       "<Figure size 432x288 with 1 Axes>"
      ]
     },
     "metadata": {
      "needs_background": "light"
     },
     "output_type": "display_data"
    }
   ],
   "source": [
    "error_rate_smooth_poly=[]#Initialize errorrate\n",
    "significance_level=[0.00001,0.0001,0.001,0.01,0.1,0.2,0.3,0.4,0.5,0.6,0.7,0.8,0.9,1]#assign  different significance level\n",
    "for point in significance_level : #Loop with different significance level\n",
    "    prediction_set=[0] * len(x_test)#Initialize the variables\n",
    "    error=0\n",
    "    for i in range(len(x_test)):\n",
    "        prediction_set[i]=list(np.where(icp_poly_smooth[3][i]>(point))[0])\n",
    "        if y_test[i] not in prediction_set[i]:\n",
    "            error+=1\n",
    "    error_rate_smooth_poly=np.append(error_rate_smooth_poly,error/len(x_test))#calculate error rate\n",
    "plt.plot(significance_level,error_rate_smooth_poly)#plot te graph with error rate and significance level\n",
    "plt.legend([\"Validity Curve- Regular p-value\",\"[0,1]\"])\n",
    "plt.plot([0,1],[0,1],\"--\")\n",
    "plt.xlabel(\"Significance Level (%)\")\n",
    "plt.ylabel(\"Error rate (%)\",)\n",
    "plt.title(\"Inductive SVM Validity Curve with smoothed p-value=True and kernel=poly\")"
   ]
  },
  {
   "cell_type": "code",
   "execution_count": null,
   "metadata": {},
   "outputs": [],
   "source": []
  }
 ],
 "metadata": {
  "kernelspec": {
   "display_name": "Python 3",
   "language": "python",
   "name": "python3"
  },
  "language_info": {
   "codemirror_mode": {
    "name": "ipython",
    "version": 3
   },
   "file_extension": ".py",
   "mimetype": "text/x-python",
   "name": "python",
   "nbconvert_exporter": "python",
   "pygments_lexer": "ipython3",
   "version": "3.8.5"
  }
 },
 "nbformat": 4,
 "nbformat_minor": 4
}
