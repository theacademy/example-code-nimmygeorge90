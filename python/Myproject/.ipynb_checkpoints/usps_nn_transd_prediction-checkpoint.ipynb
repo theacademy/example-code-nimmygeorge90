{
 "cells": [
  {
   "cell_type": "code",
   "execution_count": 1,
   "metadata": {
    "scrolled": true
   },
   "outputs": [
    {
     "name": "stdout",
     "output_type": "stream",
     "text": [
      "Training Proper Size: 5468\n",
      "Calibration Set Size: 1823\n",
      "Test Set Size: 2007\n"
     ]
    }
   ],
   "source": [
    "#Import libraries \n",
    "import numpy as np\n",
    "import math \n",
    "from sklearn.neighbors import NearestNeighbors\n",
    "import matplotlib.pyplot as plt \n",
    "import time\n",
    "from sklearn.model_selection import train_test_split\n",
    "%matplotlib inline\n",
    "\n",
    "\n",
    "\n",
    "#Split data into training set proper, calibration set and test set\n",
    "data_train_p, data_cal, target_train_p, target_cal = train_test_split(data_train, target_train, random_state=0)\n",
    "\n",
    "print(\"Training Proper Size:\", len(data_train_p))\n",
    "print(\"Calibration Set Size:\",len(data_cal))\n",
    "print(\"Test Set Size:\",len(data_test))"
   ]
  },
  {
   "cell_type": "code",
   "execution_count": null,
   "metadata": {},
   "outputs": [],
   "source": [
    "#Load USPS Dataset\n",
    "import h5py\n",
    "path=\"usps.h5\"\n",
    "with h5py.File(path, 'r') as usps_data:\n",
    "    train = usps_data.get('train')\n",
    "    x_train = train.get('data')[:]\n",
    "    target_train = train.get('target')[:]\n",
    "    test = usps_data.get('test')\n",
    "    data_test = test.get('data')[:]\n",
    "    target_test = test.get('target')[:]"
   ]
  },
  {
   "cell_type": "code",
   "execution_count": null,
   "metadata": {},
   "outputs": [],
   "source": []
  },
  {
   "cell_type": "code",
   "execution_count": null,
   "metadata": {},
   "outputs": [],
   "source": []
  },
  {
   "cell_type": "code",
   "execution_count": null,
   "metadata": {},
   "outputs": [],
   "source": []
  },
  {
   "cell_type": "code",
   "execution_count": 2,
   "metadata": {},
   "outputs": [],
   "source": [
    "def set_variables(data_train,target_train,data_test,target_test,k):\n",
    "    neighbor_data = NearestNeighbors(n_neighbors=k+1)\n",
    "    score=np.zeros(len(data_train)+1)\n",
    "    p_values=np.zeros((len(data_test),len(set(target_train))))\n",
    "    prediction=np.zeros(len(data_test))\n",
    "    confidence=np.zeros(len(data_test))\n",
    "    credibility=np.zeros(len(data_test))\n",
    "    sum_p=0\n",
    "    return neighbor_data, score, p_values, prediction, confidence, credibility, sum_p"
   ]
  },
  {
   "cell_type": "code",
   "execution_count": 3,
   "metadata": {},
   "outputs": [],
   "source": [
    "def calculate_score(extend_train_x,extend_train_y,new_data_train,new_target_train,neighbor_data,n):\n",
    "    same_sample_1=extend_train_x[extend_train_y==n]\n",
    "    same_sample_2=new_data_train[new_target_train==n]\n",
    "    neighbor_data.fit(same_sample_1)\n",
    "    same_scores=neighbor_data.kneighbors(same_sample_2)[0][:,1]\n",
    "    diff_sample_1=extend_train_x[extend_train_y!=n]\n",
    "    neighbor_data.fit(diff_sample_1)\n",
    "    diff_scores=neighbor_data.kneighbors(same_sample_2)[0][:,0]\n",
    "    result_score=same_scores/diff_scores\n",
    "    return result_score,neighbor_data"
   ]
  },
  {
   "cell_type": "markdown",
   "metadata": {},
   "source": [
    "# 1NN Transductive Point Prediction Algorithm"
   ]
  },
  {
   "cell_type": "code",
   "execution_count": 4,
   "metadata": {},
   "outputs": [],
   "source": [
    " def knn_conformal_predictor(data_train,target_train,data_test,target_test,k):\n",
    "    #Set variables\n",
    "    neighbor_data, score, p_values, prediction, confidence, credibility, sum_p = \\\n",
    "    set_variables(data_train,target_train,data_test,target_test,k)\n",
    "    #Loop through test samples\n",
    "    for i in range(len(data_test)):\n",
    "        #Create new dataset which is the training set + the test sample\n",
    "        extend_train_x=np.row_stack((data_train,data_test[i]))\n",
    "        for j in set(target_train): #Test all possible labels\n",
    "            #Extend labels with test sample\n",
    "            extend_train_y=np.append(target_train,j)\n",
    "            conf_scores=[]\n",
    "            new_data_train=extend_train_x[:len(extend_train_x)-1]\n",
    "            new_target_train=extend_train_y[:len(extend_train_y)-1]\n",
    "            for n in range(10):\n",
    "                result_score,neighbor_data=\\\n",
    "                calculate_score(extend_train_x,extend_train_y,new_data_train,new_target_train,neighbor_data,n)\n",
    "                conf_scores.extend(result_score)\n",
    "            data_sample=extend_train_x[-1]\n",
    "            target_sample=extend_train_y[-1]\n",
    "            neighbor_data.fit(extend_train_x[extend_train_y==target_sample])\n",
    "            NN_dist_s=neighbor_data.kneighbors([data_sample])[0][0][1]\n",
    "            neighbor_data.fit(extend_train_x[extend_train_y!=target_sample])\n",
    "            NN_dist_d=np.sum(neighbor_data.kneighbors([data_sample])[0][0][0])\n",
    "            conf_scores.append(NN_dist_s/NN_dist_d)\n",
    "            #Calculate p-values of test sample\n",
    "            p_values[i][j]=np.mean(conf_scores>=conf_scores[-1])\n",
    "        #Use p-values of test sample to calculate various measures\n",
    "        prediction[i]=int(np.argmax(p_values[i]))\n",
    "        confidence[i]=1- p_values[i][np.argsort(p_values[i])[-2]]\n",
    "        credibility[i]=np.max(p_values[i])\n",
    "        sum_p = sum_p + np.sum(p_values[i]) - p_values[i][target_test[i]]\n",
    "    false_p_value=sum_p/(2*len(data_test))\n",
    "    return prediction, confidence, credibility, false_p_value"
   ]
  },
  {
   "cell_type": "code",
   "execution_count": 5,
   "metadata": {},
   "outputs": [
    {
     "name": "stdout",
     "output_type": "stream",
     "text": [
      "--- 135.52344703674316 seconds ---\n"
     ]
    }
   ],
   "source": [
    "start_time = time.time()\n",
    "prediction, confidence, credibility, false_p_value = \\\n",
    "knn_conformal_predictor(data_train,target_train,data_test[0:10],target_test[0:10],1 )\n",
    "print(\"--- %s seconds ---\" % (time.time() - start_time))"
   ]
  },
  {
   "cell_type": "code",
   "execution_count": 6,
   "metadata": {},
   "outputs": [
    {
     "name": "stdout",
     "output_type": "stream",
     "text": [
      "Linear SVM Accuracy:  1.0\n",
      "Linear SVM Avg False p-value:  0.003065002742731776\n",
      "Linear Avg Confidence:  0.9981486560614371\n",
      "Linear Avg Credibility:  0.5711327482172244\n"
     ]
    }
   ],
   "source": [
    "print(\"Linear SVM Accuracy: \", np.mean(prediction==target_test[0:10]))\n",
    "print(\"Linear SVM Avg False p-value: \", false_p_value)\n",
    "print(\"Linear Avg Confidence: \",np.mean(confidence))\n",
    "print(\"Linear Avg Credibility: \",np.mean(credibility))"
   ]
  }
 ],
 "metadata": {
  "kernelspec": {
   "display_name": "Python 3",
   "language": "python",
   "name": "python3"
  },
  "language_info": {
   "codemirror_mode": {
    "name": "ipython",
    "version": 3
   },
   "file_extension": ".py",
   "mimetype": "text/x-python",
   "name": "python",
   "nbconvert_exporter": "python",
   "pygments_lexer": "ipython3",
   "version": "3.8.5"
  }
 },
 "nbformat": 4,
 "nbformat_minor": 2
}
