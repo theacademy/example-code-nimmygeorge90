{
 "cells": [
  {
   "cell_type": "code",
   "execution_count": 1,
   "metadata": {},
   "outputs": [
    {
     "name": "stdout",
     "output_type": "stream",
     "text": [
      "Training Proper Size: 5468\n",
      "Calibration Set Size: 1823\n",
      "Test Set Size: 2007\n"
     ]
    }
   ],
   "source": [
    "#Load USPS Dataset\n",
    "import h5py\n",
    "path=\"usps.h5\"\n",
    "with h5py.File(path, 'r') as usps_data:\n",
    "    train = usps_data.get('train')\n",
    "    data_train = train.get('data')[:]\n",
    "    target_train = train.get('target')[:]\n",
    "    test = usps_data.get('test')\n",
    "    data_test = test.get('data')[:]\n",
    "    target_test = test.get('target')[:]\n",
    "\n",
    "#Import libraries \n",
    "import numpy as np\n",
    "import math \n",
    "from sklearn.svm import SVC\n",
    "import matplotlib.pyplot as plt \n",
    "import time\n",
    "from sklearn.model_selection import train_test_split\n",
    "%matplotlib inline\n",
    "\n",
    "#Split data into training set proper, calibration set and test set\n",
    "data_train_p, data_cal, target_train_p, target_cal = train_test_split(data_train, target_train, random_state=0)\n",
    "\n",
    "print(\"Training Proper Size:\", len(data_train_p))\n",
    "print(\"Calibration Set Size:\",len(data_cal))\n",
    "print(\"Test Set Size:\",len(data_test))"
   ]
  },
  {
   "cell_type": "code",
   "execution_count": 2,
   "metadata": {},
   "outputs": [],
   "source": [
    "def set_variables(data_train,target_train,data_test,target_test,kernel):\n",
    "    SVM=SVC(kernel=kernel)\n",
    "    score=np.zeros(len(data_train)+1)\n",
    "    p_values=np.zeros((len(data_test),len(set(target_train))))\n",
    "    prediction=np.zeros(len(data_test))\n",
    "    confidence=np.zeros(len(data_test))\n",
    "    credibility=np.zeros(len(data_test))\n",
    "    sum_p=0\n",
    "    return SVM, score, p_values, prediction, confidence, credibility, sum_p"
   ]
  },
  {
   "cell_type": "code",
   "execution_count": 3,
   "metadata": {},
   "outputs": [],
   "source": [
    "def calculate_score(extend_train_x,extend_train_y,SVM):\n",
    "    SVM.fit(extend_train_x,extend_train_y)\n",
    "    d_func=SVM.decision_function(extend_train_x)\n",
    "    row=np.arange(0,len(d_func))\n",
    "    result_score=-1*d_func[row,extend_train_y]\n",
    "    return result_score,SVM"
   ]
  },
  {
   "cell_type": "code",
   "execution_count": 4,
   "metadata": {},
   "outputs": [],
   "source": [
    "def svm_conformal_predictor(data_train,target_train,data_test,target_test,kernel):\n",
    "    #Set variables\n",
    "    SVM, score, p_values, prediction, confidence, credibility, sum_p = \\\n",
    "    set_variables(data_train,target_train,data_test,target_test,kernel)\n",
    "    #Loop through test samples\n",
    "    for i in range(len(data_test)):\n",
    "        #Create new dataset which is the training set + the test sample\n",
    "        extend_train_x=np.row_stack((data_train,data_test[i]))\n",
    "        for j in set(target_train): #Test all possible labels\n",
    "            #Extend labels with test sample\n",
    "            extend_train_y=np.append(target_train,j)\n",
    "            #Calculate conformity scores for each sample in the extended set\n",
    "            result_score,SVM=\\\n",
    "                calculate_score(extend_train_x,extend_train_y,SVM)\n",
    "            #Calculate p-values of test sample\n",
    "            p_values[i][j]=np.mean(result_score>=result_score[-1])\n",
    "        #Use p-values of test sample to calculate various measures\n",
    "        prediction[i]=int(np.argmax(p_values[i]))\n",
    "        confidence[i]=1- p_values[i][np.argsort(p_values[i])[-2]]\n",
    "        credibility[i]=np.max(p_values[i])\n",
    "        sum_p = sum_p + np.sum(p_values[i]) - p_values[i][target_test[i]]\n",
    "    false_p_value=sum_p/(2*len(data_test))\n",
    "    return prediction, confidence, credibility, false_p_value"
   ]
  },
  {
   "cell_type": "code",
   "execution_count": 5,
   "metadata": {},
   "outputs": [
    {
     "name": "stdout",
     "output_type": "stream",
     "text": [
      "--- 168.38916659355164 seconds ---\n"
     ]
    }
   ],
   "source": [
    "start_time = time.time()\n",
    "prediction, confidence, credibility, false_p_value = \\\n",
    "svm_conformal_predictor(data_train,target_train,data_test[0:10],target_test[0:10],\"linear\" )\n",
    "print(\"--- %s seconds ---\" % (time.time() - start_time))"
   ]
  },
  {
   "cell_type": "code",
   "execution_count": 7,
   "metadata": {},
   "outputs": [
    {
     "name": "stdout",
     "output_type": "stream",
     "text": [
      "Linear SVM Accuracy:  0.7\n",
      "Linear SVM Avg False p-value:  0.17447202413603946\n",
      "Linear Avg Confidence:  0.8196379594075699\n",
      "Linear Avg Credibility:  0.6471475589687328\n"
     ]
    }
   ],
   "source": [
    "print(\"Linear SVM Accuracy: \", np.mean(prediction==target_test[0:10]))\n",
    "print(\"Linear SVM Avg False p-value: \", false_p_value)\n",
    "print(\"Linear Avg Confidence: \",np.mean(confidence))\n",
    "print(\"Linear Avg Credibility: \",np.mean(credibility))"
   ]
  },
  {
   "cell_type": "code",
   "execution_count": null,
   "metadata": {},
   "outputs": [],
   "source": []
  }
 ],
 "metadata": {
  "kernelspec": {
   "display_name": "Python 3",
   "language": "python",
   "name": "python3"
  },
  "language_info": {
   "codemirror_mode": {
    "name": "ipython",
    "version": 3
   },
   "file_extension": ".py",
   "mimetype": "text/x-python",
   "name": "python",
   "nbconvert_exporter": "python",
   "pygments_lexer": "ipython3",
   "version": "3.8.5"
  }
 },
 "nbformat": 4,
 "nbformat_minor": 5
}
