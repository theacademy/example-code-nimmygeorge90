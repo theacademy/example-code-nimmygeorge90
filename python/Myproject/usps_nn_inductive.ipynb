{
 "cells": [
  {
   "cell_type": "code",
   "execution_count": 1,
   "metadata": {},
   "outputs": [],
   "source": [
    "import numpy as np  # To load numpy\n",
    "import pandas as pd # To load pandas\n",
    "import math # To calcuate mathematical problems\n",
    "import time #To calculate the time that take implement the algorithm\n",
    "from sklearn.model_selection import train_test_split  # for split arrays or matrices into random train and test subsets\n",
    "from sklearn.neighbors import KNeighborsClassifier    # here we are importing KNeighborsClassifie from sklearn\n",
    "from sklearn.neighbors import KNeighborsRegressor  # here we are importing KNeighborsregressor from sklearn\n",
    "from sklearn.neighbors import NearestNeighbors # here we are importing nearestneighbor from sklearn\n",
    "from sklearn import metrics   # importing metrics from sklearn to findout the performance measures.\n",
    "import sklearn.preprocessing as preprocessing #Importing preprocess algorithm\n",
    "import numpy.linalg as la\n",
    "import matplotlib.pyplot as plt #For plotting the graph"
   ]
  },
  {
   "cell_type": "code",
   "execution_count": 2,
   "metadata": {},
   "outputs": [],
   "source": [
    "#Download the dataset from \"https://www.kaggle.com/bistaumanga/usps-dataset\"\n",
    "#Load USPS Dataset from HDF5 file\n",
    "import h5py\n",
    "usps=\"usps.h5\"\n",
    "with h5py.File(usps, 'r') as hf: #the dataset fetch in reading format\n",
    "        train = hf.get('train')\n",
    "        x_train = train.get('data')[:]\n",
    "        y_train = train.get('target')[:]\n",
    "        test = hf.get('test')\n",
    "        x_test = test.get('data')[:]\n",
    "        y_test = test.get('target')[:]"
   ]
  },
  {
   "cell_type": "code",
   "execution_count": 3,
   "metadata": {},
   "outputs": [
    {
     "data": {
      "text/plain": [
       "array([[0.    , 0.    , 0.    , ..., 0.    , 0.    , 0.    ],\n",
       "       [0.    , 0.    , 0.    , ..., 0.1645, 0.086 , 0.    ],\n",
       "       [0.    , 0.    , 0.    , ..., 0.    , 0.    , 0.    ],\n",
       "       ...,\n",
       "       [0.    , 0.    , 0.    , ..., 0.    , 0.    , 0.    ],\n",
       "       [0.    , 0.    , 0.    , ..., 0.    , 0.    , 0.    ],\n",
       "       [0.    , 0.    , 0.    , ..., 0.    , 0.    , 0.    ]],\n",
       "      dtype=float32)"
      ]
     },
     "execution_count": 3,
     "metadata": {},
     "output_type": "execute_result"
    }
   ],
   "source": [
    "x_train"
   ]
  },
  {
   "cell_type": "code",
   "execution_count": 4,
   "metadata": {},
   "outputs": [
    {
     "data": {
      "text/plain": [
       "array([6, 5, 4, ..., 3, 0, 1])"
      ]
     },
     "execution_count": 4,
     "metadata": {},
     "output_type": "execute_result"
    }
   ],
   "source": [
    "y_train"
   ]
  },
  {
   "cell_type": "code",
   "execution_count": 5,
   "metadata": {},
   "outputs": [
    {
     "data": {
      "text/plain": [
       "array([[0., 0., 0., ..., 0., 0., 0.],\n",
       "       [0., 0., 0., ..., 0., 0., 0.],\n",
       "       [0., 0., 0., ..., 0., 0., 0.],\n",
       "       ...,\n",
       "       [0., 0., 0., ..., 0., 0., 0.],\n",
       "       [0., 0., 0., ..., 0., 0., 0.],\n",
       "       [0., 0., 0., ..., 0., 0., 0.]], dtype=float32)"
      ]
     },
     "execution_count": 5,
     "metadata": {},
     "output_type": "execute_result"
    }
   ],
   "source": [
    "x_test"
   ]
  },
  {
   "cell_type": "code",
   "execution_count": 6,
   "metadata": {},
   "outputs": [
    {
     "data": {
      "text/plain": [
       "array([9, 6, 3, ..., 4, 0, 1])"
      ]
     },
     "execution_count": 6,
     "metadata": {},
     "output_type": "execute_result"
    }
   ],
   "source": [
    "y_test"
   ]
  },
  {
   "cell_type": "code",
   "execution_count": 7,
   "metadata": {},
   "outputs": [
    {
     "name": "stdout",
     "output_type": "stream",
     "text": [
      "x_train_proper: (5468, 256)\n",
      "y_train_proper: (5468,)\n",
      "x_test:  (2007, 256)\n",
      "y_test:  (2007,)\n",
      "x_calibration: (1823, 256)\n",
      "y_calibration: (1823,)\n",
      "Training set Size: 5468\n",
      "Test Set Size: 2007\n",
      "Calibration Set Size: 1823\n"
     ]
    }
   ],
   "source": [
    "x_train_proper, x_calibration, y_train_proper, y_calibration = train_test_split(x_train, y_train, random_state=0)\n",
    "print('x_train_proper: ' + str(x_train_proper.shape))\n",
    "print('y_train_proper: ' + str(y_train_proper.shape))\n",
    "print('x_test:  '  + str(x_test.shape))\n",
    "print('y_test:  '  + str(y_test.shape))\n",
    "print('x_calibration: ' + str(x_calibration.shape))\n",
    "print('y_calibration: ' + str(y_calibration.shape))\n",
    "print(\"Training set Size:\", len(x_train_proper))\n",
    "print(\"Test Set Size:\",len(x_test))\n",
    "print(\"Calibration Set Size:\",len(x_calibration))"
   ]
  },
  {
   "cell_type": "code",
   "execution_count": 8,
   "metadata": {},
   "outputs": [
    {
     "name": "stdout",
     "output_type": "stream",
     "text": [
      " Result of  Nearest Neighbour Algorithm for classsification is \n",
      "\n",
      "\n",
      "Prediction time  is:  5.01 seconds\n",
      "Accuracy: 0.9431988041853513\n",
      "Error Rate is:  0.05680119581464871\n"
     ]
    }
   ],
   "source": [
    "print(\" Result of  Nearest Neighbour Algorithm for classsification is \\n\")\n",
    "start = time.time()\n",
    "nn_class = KNeighborsClassifier(n_neighbors=1)\n",
    "nn_class.fit(x_train_proper,y_train_proper)\n",
    "y_pred = nn_class.predict(x_test)\n",
    "print('\\nPrediction time  is: ',\"%.2f\" %(time.time() - start),\"seconds\")\n",
    "print('Accuracy:',nn_class.score(x_test,y_test))\n",
    "print(\"Error Rate is: \",1-nn_class.score(x_test,y_test))"
   ]
  },
  {
   "cell_type": "code",
   "execution_count": 9,
   "metadata": {},
   "outputs": [
    {
     "name": "stdout",
     "output_type": "stream",
     "text": [
      " Result of  Nearest Neighbour Algorithm for Regression is \n",
      "\n",
      "\n",
      "Prediction time  is:  4.62 seconds\n",
      "Accuracy: 0.8980694861335402\n",
      "Error Rate is:  0.1019305138664598\n"
     ]
    }
   ],
   "source": [
    "print(\" Result of  Nearest Neighbour Algorithm for Regression is \\n\")\n",
    "start = time.time()\n",
    "nn_reg = KNeighborsRegressor(n_neighbors=1)\n",
    "nn_reg.fit(x_train_proper,y_train_proper)\n",
    "y_pred = nn_class.predict(x_test)\n",
    "print('\\nPrediction time  is: ',\"%.2f\" %(time.time() - start),\"seconds\")\n",
    "print('Accuracy:',nn_reg.score(x_test,y_test))\n",
    "print(\"Error Rate is: \",1-nn_reg.score(x_test,y_test))"
   ]
  },
  {
   "cell_type": "code",
   "execution_count": 10,
   "metadata": {},
   "outputs": [
    {
     "name": "stdout",
     "output_type": "stream",
     "text": [
      " Result of  Nearest Neighbour Algorithm for Unsupervised learning is \n",
      "\n",
      "\n",
      "Prediction time  is:  0.35 seconds\n"
     ]
    }
   ],
   "source": [
    "print(\" Result of  Nearest Neighbour Algorithm for Unsupervised learning is \\n\")\n",
    "start = time.time()\n",
    "nn_model = NearestNeighbors(n_neighbors=1)\n",
    "nn_model.fit(x_train_proper,y_train_proper)\n",
    "print('\\nPrediction time  is: ',\"%.2f\" %(time.time() - start),\"seconds\")"
   ]
  },
  {
   "cell_type": "code",
   "execution_count": 11,
   "metadata": {},
   "outputs": [],
   "source": [
    "#Initialize the variables\n",
    "def set_variables(x_train_proper,y_train_proper,x_test,k):\n",
    "    nn_model = NearestNeighbors(n_neighbors=k+1)\n",
    "    ncp_score=np.zeros(len(x_train_proper)+1)\n",
    "    p_values=np.zeros((len(x_test),len(set(y_train_proper))))\n",
    "    pred=np.zeros(len(x_test))\n",
    "    conf=np.zeros(len(x_test))\n",
    "    cred=np.zeros(len(x_test))\n",
    "    sum_p_values=0\n",
    "    return  nn_model,ncp_score, p_values, pred, conf, cred, sum_p_values"
   ]
  },
  {
   "cell_type": "code",
   "execution_count": 12,
   "metadata": {},
   "outputs": [],
   "source": [
    "def nn_icp(x_train_proper,y_train_proper,x_calibration,y_calibration,x_test,y_test,k):\n",
    "    #Initialize variables for storage\n",
    "    nn_model, score, p_values, pred, conf, cred, sum_p_values = \\\n",
    "    set_variables(x_train_proper,y_train_proper,x_test,k)\n",
    "    ncp_score=[]\n",
    "    #Calculate the non-conformity scores for the calibration set ,here calculating distance to the nearest sample of the\n",
    "    #same and different labels with each sambles in that label\n",
    "    for n in set(y_train_proper):\n",
    "        same_dist_train=x_train_proper[y_train_proper==n] #obtain samples in the proper training set with label n\n",
    "        same_dist_cal=x_calibration[y_calibration==n]#obtain samples in calibration set with label n\n",
    "        nn_model.fit(same_dist_train)#Fit nearest neighbours to the training set proper \n",
    "        ncs_same=nn_model.kneighbors(same_dist_cal)[0][:,1]#Get distances for calibration set samples with the same label     \n",
    "        diff_dist_train=x_train_proper[y_train_proper!=n]#Get samples in the training set proper with a different label\n",
    "        nn_model.fit(diff_dist_train)#Fit nearest neighbours to the training set proper samples with the same label\n",
    "        ncs_diff=nn_model.kneighbors(same_dist_cal)[0][:,0]\n",
    "        ncp_score.extend(ncs_same/ncs_diff) #Calculate non-conformity score\n",
    "    for i in range(len(x_test)):  #Loop through test samples\n",
    "        for j in set(y_train_proper): #Test all possible labels\n",
    "            nn_model.fit(x_train_proper[y_train_proper==j]) # Fit nearest neighbours to the training set proper sample\n",
    "            same_dist_test=nn_model.kneighbors([x_test[i]])[0][0][1] #calculate the distance with same sambles in test set\n",
    "            nn_model.fit(x_train_proper[y_train_proper!=j])#Fit nearest neighbours to the training set proper sample\n",
    "            diff_dist_test=np.sum(nn_model.kneighbors([x_test[i]])[0][0][0]) #calculate the distance with different sambles in test set\n",
    "            if diff_dist_test != 0: #We are using exception when distance between different sample is 0 due to issue in ranking\n",
    "                ncp_score_test=np.append(ncp_score,same_dist_test/diff_dist_test)#Calculate non-conformity score in test set\n",
    "                p_values[i][j]=np.mean(ncp_score_test>=ncp_score_test[-1])#Calculate regular p-values of test sample\n",
    "        pred[i]=int(np.argmax(p_values[i]))#Use p-values of test sample to calculate predictions\n",
    "        conf[i]=1- p_values[i][np.argsort(p_values[i])[-2]]#Use p-values of test sample to calculating confidence\n",
    "        cred[i]=np.max(p_values[i])#Use p-values of test sample to calculating credibility\n",
    "        sum_p_values = sum_p_values + np.sum(p_values[i]) - p_values[i][y_test[i]]#Calculating the total sumof p-value\n",
    "    false_p_value=sum_p_values/(2*len(x_test))#Use p-values of test sample to calculate false p-value\n",
    "    return pred, conf, cred, p_values, false_p_value"
   ]
  },
  {
   "cell_type": "code",
   "execution_count": 13,
   "metadata": {},
   "outputs": [
    {
     "name": "stdout",
     "output_type": "stream",
     "text": [
      "--- 6123.504449605942 seconds ---\n",
      "Inductive SVM Accuracy:  0.9446935724962631\n",
      "Inductive SVM Avg False p-value:  0.012879537845610568\n",
      "Inductive Avg Credibility:  0.47799341558929714\n",
      "Inductive Avg Confidence:  0.9942711474750653\n"
     ]
    }
   ],
   "source": [
    "start_time = time.time()\n",
    "nn_icp_p_value=nn_icp(x_train_proper,y_train_proper,x_calibration,y_calibration,x_test,y_test,1 )\n",
    "print(\"--- %s seconds ---\" % (time.time() - start_time))\n",
    "print(\"Inductive SVM Accuracy: \", np.mean(nn_icp_p_value[0]==y_test))\n",
    "print(\"Inductive SVM Avg False p-value: \", nn_icp_p_value[4])\n",
    "print(\"Inductive Avg Credibility: \",np.mean(nn_icp_p_value[2]))\n",
    "print(\"Inductive Avg Confidence: \",np.mean(nn_icp_p_value[1]))"
   ]
  },
  {
   "cell_type": "code",
   "execution_count": 20,
   "metadata": {},
   "outputs": [
    {
     "data": {
      "text/plain": [
       "Text(0.5, 1.0, 'ICP NN Regular p-value- Validation Curve')"
      ]
     },
     "execution_count": 20,
     "metadata": {},
     "output_type": "execute_result"
    },
    {
     "data": {
      "image/png": "[encoded data removed]",
      "text/plain": [
       "<Figure size 432x288 with 1 Axes>"
      ]
     },
     "metadata": {
      "needs_background": "light"
     },
     "output_type": "display_data"
    }
   ],
   "source": [
    "error_rate=[]\n",
    "sig_level=[0,0.00001,0.0001,0.001,0.01,0.05,0.1,0.15,0.2,0.3,0.4,0.5,0.6,0.7,0.8,0.9,0.95,1]\n",
    "#Loop through the different significance level and use p-values to calculate their error rate\n",
    "for point in sig_level :\n",
    "    pred_set=[0] * len(x_test)\n",
    "    error=0\n",
    "    for i in range(len(x_test)):\n",
    "        pred_set[i]=list(np.where(nn_icp_p_value[3][i]>(point))[0])\n",
    "        if y_test[i] not in pred_set[i]:\n",
    "            error+=1\n",
    "    error_rate=np.append(error_rate,error/len(x_test))\n",
    "\n",
    "plt.plot(sig_level,error_rate)\n",
    "plt.plot([0,1],[0,1],\"--\")\n",
    "plt.legend([\"Validation Curve- ICP \",\"[0,1]\"])\n",
    "plt.xlabel(\"Significance Level (%)\")\n",
    "plt.ylabel(\"Error rate (%)\")\n",
    "plt.title(\"ICP NN Regular p-value- Validation Curve\")"
   ]
  },
  {
   "cell_type": "markdown",
   "metadata": {},
   "source": [
    "Implementing inductive conformal prediction for smoothed p-value"
   ]
  },
  {
   "cell_type": "code",
   "execution_count": 16,
   "metadata": {},
   "outputs": [],
   "source": [
    "def nn_icp_smooth(x_train_proper,y_train_proper,x_calibration,y_calibration,x_test,y_test,k):\n",
    "    #Initialize variables for storage\n",
    "    nn_model, score, p_values, pred, conf, cred, sum_p_values = \\\n",
    "    set_variables(x_train_proper,y_train_proper,x_test,k)\n",
    "    ncp_score=[]\n",
    "    #Calculate the non-conformity scores for the calibration set ,here calculating distance to the nearest sample of the\n",
    "    #same and different labels with each sambles in that label\n",
    "    for n in set(y_train_proper):\n",
    "        same_dist_train=x_train_proper[y_train_proper==n]#Get samples in the training set proper with label n\n",
    "        same_dist_cal=x_calibration[y_calibration==n] #Get samples in calibration set with label n\n",
    "        nn_model.fit(same_dist_train)#Fit nearest neighbours to the training set proper samples with the same label\n",
    "        ncs_same=nn_model.kneighbors(same_dist_cal)[0][:,1]#Get distances for calibration set samples to samples of the same label\n",
    "        diff_dist_train=x_train_proper[y_train_proper!=n]#Get samples in the training set proper with a different label to n \n",
    "        nn_model.fit(diff_dist_train)#Fit nearest neighbours to the training set proper samples with the same label\n",
    "        ncs_diff=nn_model.kneighbors(same_dist_cal)[0][:,0]\n",
    "        ncp_score.extend(ncs_same/ncs_diff)\n",
    "    #Loop through test samples\n",
    "    for i in range(len(x_test)):\n",
    "        for j in set(y_train_proper): #Test all possible labels\n",
    "            nn_model.fit(x_train_proper[y_train_proper==j])\n",
    "            same_dist_test=nn_model.kneighbors([x_test[i]])[0][0][1]\n",
    "            nn_model.fit(x_train_proper[y_train_proper!=j])\n",
    "            diff_dist_test=np.sum(nn_model.kneighbors([x_test[i]])[0][0][0])\n",
    "            if diff_dist_test != 0:\n",
    "                ncp_score_test=np.append(ncp_score,same_dist_test/diff_dist_test)\n",
    "        #Calculate smoothed p-values of test sample\n",
    "                tau=np.random.uniform()\n",
    "                p_values[i][j]=(np.sum(ncp_score_test>ncp_score_test[-1])+(tau*(np.sum(ncp_score_test==ncp_score_test[-1]))))/len(ncp_score_test)\n",
    "        pred[i]=int(np.argmax(p_values[i]))#Use p-values of test sample to calculate various measures\n",
    "        conf[i]=1- p_values[i][np.argsort(p_values[i])[-2]]\n",
    "        cred[i]=np.max(p_values[i])\n",
    "        sum_p_values = sum_p_values + np.sum(p_values[i]) - p_values[i][y_test[i]]\n",
    "    false_p_value=sum_p_values/(2*len(x_test))\n",
    "    return pred, conf, cred, p_values, false_p_value\n"
   ]
  },
  {
   "cell_type": "code",
   "execution_count": 17,
   "metadata": {},
   "outputs": [
    {
     "name": "stdout",
     "output_type": "stream",
     "text": [
      "--- 5514.935352802277 seconds ---\n",
      "Inductive SVM Accuracy:  0.9451918285999004\n",
      "Inductive SVM Avg False p-value:  0.011650037959042773\n",
      "Inductive Avg Credibility:  0.4777180694684141\n",
      "Inductive Avg Confidence:  0.9944349208348685\n"
     ]
    }
   ],
   "source": [
    "start_time = time.time()\n",
    "smooth_pred=nn_icp_smooth(x_train_proper,y_train_proper,x_calibration,y_calibration,x_test,y_test,1)\n",
    "print(\"--- %s seconds ---\" % (time.time() - start_time))\n",
    "print(\"Inductive SVM Accuracy: \", np.mean(smooth_pred[0]==y_test))\n",
    "print(\"Inductive SVM Avg False p-value: \", smooth_pred[4])\n",
    "print(\"Inductive Avg Credibility: \",np.mean(smooth_pred[2]))\n",
    "print(\"Inductive Avg Confidence: \",np.mean(smooth_pred[1]))"
   ]
  },
  {
   "cell_type": "code",
   "execution_count": 19,
   "metadata": {},
   "outputs": [
    {
     "data": {
      "text/plain": [
       "Text(0.5, 1.0, 'ICP NN Validation Curve of smoothed p-value')"
      ]
     },
     "execution_count": 19,
     "metadata": {},
     "output_type": "execute_result"
    },
    {
     "data": {
      "image/png": "[encoded data removed]",
      "text/plain": [
       "<Figure size 432x288 with 1 Axes>"
      ]
     },
     "metadata": {
      "needs_background": "light"
     },
     "output_type": "display_data"
    }
   ],
   "source": [
    "error_rate=[]\n",
    "sig_level=[0,0.00001,0.0001,0.001,0.01,0.05,0.1,0.15,0.2,0.3,0.4,0.5,0.6,0.7,0.8,0.9,0.95,1]\n",
    "#Loop through the different significance level and use p-values to calculate their error rate\n",
    "for point in sig_level :\n",
    "    pred_set=[0] * len(x_test)\n",
    "    error=0\n",
    "    for i in range(len(x_test)):\n",
    "        pred_set[i]=list(np.where(smooth_pred[3][i]>(point))[0])\n",
    "        if y_test[i] not in pred_set[i]:\n",
    "            error+=1\n",
    "    error_rate=np.append(error_rate,error/len(x_test))\n",
    "\n",
    "plt.plot(sig_level,error_rate)\n",
    "plt.plot([0,1],[0,1],\"--\")\n",
    "plt.legend([\"ICP NN Validation Curve of smoothed p-value\",\"[0,1]\"])\n",
    "plt.xlabel(\"Significance Level (%)\")\n",
    "plt.ylabel(\"Error rate (%)\")\n",
    "plt.title(\"ICP NN Validation Curve of smoothed p-value\")"
   ]
  },
  {
   "cell_type": "code",
   "execution_count": null,
   "metadata": {},
   "outputs": [],
   "source": []
  }
 ],
 "metadata": {
  "kernelspec": {
   "display_name": "Python 3",
   "language": "python",
   "name": "python3"
  },
  "language_info": {
   "codemirror_mode": {
    "name": "ipython",
    "version": 3
   },
   "file_extension": ".py",
   "mimetype": "text/x-python",
   "name": "python",
   "nbconvert_exporter": "python",
   "pygments_lexer": "ipython3",
   "version": "3.8.5"
  }
 },
 "nbformat": 4,
 "nbformat_minor": 4
}
